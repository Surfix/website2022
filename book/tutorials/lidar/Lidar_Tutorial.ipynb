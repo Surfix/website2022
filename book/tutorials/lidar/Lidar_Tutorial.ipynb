{
 "cells": [
  {
   "cell_type": "markdown",
   "metadata": {},
   "source": [
    "# Lidar Remote Sensing of Snow\n",
    "\n",
    "## Goal and Objectives\n",
    "\n",
    "In this tutorial, we will learn how to work with lidar derived raster product that represent topography and snow depth. The objectives include:\n",
    "1. Understanding the basic concept of lidar remote sensing\n",
    "2. Deriving snow products from lidar DEMs differencing\n",
    "3. Analyzing lidar raster data\n",
    "4. Identifying available lidar data for snow science\n",
    "\n",
    "The prerequisite for this tutorial is basic experience with python and geospatial data. \n",
    "\n",
    "## Overview\n",
    "\n",
    "We will start by exploring point cloud data and take a quick look at how rasters are created from them. Then we will derive vegetation and snow depth by differencing elevation models followed by analysing these lidar data including DEM. Finally, we will address common issue with working with lidar data from varying sources. Finally, we will For the second part, we will talk about available snow focused lidar data."
   ]
  },
  {
   "cell_type": "markdown",
   "metadata": {},
   "source": [
    "## Introduction to Lidar Remote Sensing\n",
    "Lidar stands for light detection and Ranging. It is a crucial remote sensing system for measuring elevation across wide areas. Airborne LiDAR technology is used to measure topography using a laser beam directed towards the ground with GPS and IMU systems providing the location and orientation of the airborne platform. \n",
    "\n",
    "<figure>\n",
    "<img src = 'https://gmv.cast.uark.edu/wp-content/uploads/2013/01/ALS_scematic.jpg' style=\"width:100%\">\n",
    "<figcaption align =  'center'><b>Source: https://gmv.cast.uark.edu/scanning-2/airborne-laser-scanning//</b></figcaption>\n",
    "</figure>\n",
    "\n",
    "\n",
    "Depending on the feature the point return is coming from, elevation models can be Digital Terrain Model (DTM) or Digital Surface Model (DSM). DTM is the three-dimensional representation of the terrain without natural or man-made objects. DSM is a three-dimensional representation of the heights of the Earth's surface, including natural or man-made objects located on it.\n",
    "\n",
    "<figure>\n",
    "<img src = 'https://www.aw3d.jp/wp/wp-content/themes/AW3DEnglish/glossary/img/glo_01_01.jpg' style=\"width:100%\">\n",
    "<figcaption align =  'center'><b>Source: https://www.aw3d.jp/en/glossary/</b></figcaption>\n",
    "</figure>"
   ]
  },
  {
   "cell_type": "markdown",
   "metadata": {},
   "source": [
    "## Explore Point Cloud\n",
    "In this activity, we will open a .las file, in the [plas.io free online lidar data viewer](http://plas.io/) and explore some attributes associated with a lidar data point cloud. \n",
    "1. Load the data: under file, select Autzen stadium. To navigate around, use left click and drag to tilt up and down, righ click and drag to move around. scroll bar to zoom in and out\n",
    "\n",
    "2. Adjust Intesnity \n",
    "\n",
    "3. Change the lidar point cloud color options to classification\n",
    "\n",
    "4. Explore\n"
   ]
  },
  {
   "cell_type": "markdown",
   "metadata": {},
   "source": [
    "## Point to Pixels\n",
    "\n",
    "Points clouds give us a lot of information (x, y, z and intensity). However, these data might be too large, overwhelming and difficult for scientific application. Lidar data are often provided in raster data format which is easier to work with in many GIS tools. Raster data can be generated from point clouds using gridding. \n",
    "\n",
    "[More...]\n"
   ]
  },
  {
   "cell_type": "markdown",
   "metadata": {},
   "source": [
    "## Elevation Differencing\n",
    "\n",
    "Canopy Height Model is a popular raster product from lidar data. It can be derived from differencing DSM and DEM. Snow depth is another raster product of interest. This is derived by differencing snow-on DEM and snow-off DEM. \n",
    "<figure>\n",
    "<img src = 'https://i.imgur.com/uGkxpzQ.jpg' style=\"width:100%\">\n",
    "</figure>\n",
    "\n",
    "We will difference the appropriate elevation model to derive vegetation height and snow depth. To begin, let's load the necessary packages for this tutorial."
   ]
  },
  {
   "cell_type": "code",
   "execution_count": null,
   "metadata": {},
   "outputs": [],
   "source": [
    "#import packages\n",
    "\n",
    "import os\n",
    "\n",
    "import numpy as np \n",
    "\n",
    "#plotting packages\n",
    "import matplotlib.pyplot as plt\n",
    "import seaborn as sns\n",
    "import hvplot.xarray\n",
    "\n",
    "#geospatial packages\n",
    "import geopandas as gpd #for vector data\n",
    "import xarray as xr\n",
    "import rioxarray #for raster data\n",
    "import rasterstats as rs\n"
   ]
  },
  {
   "cell_type": "code",
   "execution_count": null,
   "metadata": {},
   "outputs": [],
   "source": [
    "#read the snow_on and snow_free DEM\n",
    "cam_dem_snowOn = rioxarray.open_rasterio('./input/Cameron_Winter_DEM.tif', masked = True)\n",
    "cam_dem_snowFree = rioxarray.open_rasterio('./input/Cameron_Summer_DEM.tif', masked =  True)\n",
    "\n",
    "#derive snow depth\n",
    "cam_snow_depth = cam_dem_snowOn - cam_dem_snowFree\n",
    "\n",
    "#read the snow_free DSM to calculate vegetation height\n",
    "cam_dsm_snowFree = rioxarray.open_rasterio('./input/Cameron_Summer_DSMs.tif', masked = True)\n",
    "\n",
    "#derive vegetation height\n",
    "cam_vh = cam_dsm_snowFree - cam_dem_snowFree\n"
   ]
  },
  {
   "cell_type": "markdown",
   "metadata": {},
   "source": [
    "What does the DataArray object looks like?"
   ]
  },
  {
   "cell_type": "code",
   "execution_count": null,
   "metadata": {},
   "outputs": [],
   "source": [
    "cam_snow_depth"
   ]
  },
  {
   "cell_type": "markdown",
   "metadata": {},
   "source": [
    "The data has about 145 million values. Let's check the shape, CRS,extent and resolution and make a quick interactive plot."
   ]
  },
  {
   "cell_type": "code",
   "execution_count": null,
   "metadata": {},
   "outputs": [],
   "source": [
    "print('The shape of the data is is:', cam_snow_depth.shape)\n",
    "print('\\nCRS of the data is:', cam_snow_depth.rio.crs)\n",
    "print('\\n The spatial extent of the data is:', cam_snow_depth.rio.bounds())\n",
    "print('\\n The resolution of the data is:', cam_snow_depth.rio.resolution())\n"
   ]
  },
  {
   "cell_type": "markdown",
   "metadata": {},
   "source": [
    "Let's quickly see the plot and see the distribution of pixel values"
   ]
  },
  {
   "cell_type": "code",
   "execution_count": null,
   "metadata": {},
   "outputs": [],
   "source": [
    "cam_snow_depth.hvplot.image(x= 'x', y = 'y', rasterize = True, cmap = 'viridis', height = 500)"
   ]
  },
  {
   "cell_type": "markdown",
   "metadata": {},
   "source": [
    "Let's subset over small area for faster plotting and further analysis."
   ]
  },
  {
   "cell_type": "code",
   "execution_count": null,
   "metadata": {},
   "outputs": [],
   "source": [
    "cam_dem_roi = cam_dem_snowFree.sel(y = slice(4489168, 4487655), x = slice(425077, 425848))\n",
    "cam_vh_roi = cam_vh.sel(y = slice(4489168, 4487655), x = slice(425077, 425848))\n",
    "cam_sd_roi = cam_snow_depth.sel(y = slice(4489168, 4487655), x = slice(425077, 425848))"
   ]
  },
  {
   "cell_type": "code",
   "execution_count": null,
   "metadata": {},
   "outputs": [],
   "source": [
    "# Set font size and font family\n",
    "plt.rcParams.update({'font.size': 18})\n",
    "plt.rcParams['font.family'] = 'serif'\n",
    "plt.rcParams['font.serif'] = ['Times New Roman'] + plt.rcParams['font.serif']\n",
    "\n",
    "#create fig and axes elements\n",
    "fig, axs = plt.subplots(ncols = 3, figsize=(18, 12))\n",
    "\n",
    "#plot the data\n",
    "cam_dem_roi.plot(ax = axs[0], cmap = 'Greys', robust = True, cbar_kwargs={'label': 'Elevation (m)', 'orientation':'horizontal'}) \n",
    "cam_vh_roi.plot(ax = axs[1], cmap = 'summer_r', robust = True, cbar_kwargs={'label': 'Vegetation Height (m)', 'orientation':'horizontal'})\n",
    "cam_sd_roi.plot(ax = axs[2], cmap = 'Blues', robust = True, cbar_kwargs={'label': 'Snow Depth (m)', 'orientation':'horizontal'})\n",
    "\n",
    "#Set the title\n",
    "# fig.suptitle('Cameron Study Area', fontsize = 20)\n",
    "\n",
    "#set the axes title and tick locators\n",
    "axs[0].set_title('')\n",
    "axs[0].xaxis.set_major_locator(plt.LinearLocator(3))\n",
    "axs[1].set_title('')\n",
    "axs[1].xaxis.set_major_locator(plt.LinearLocator(3))\n",
    "axs[2].set_title('')\n",
    "axs[2].xaxis.set_major_locator(plt.LinearLocator(3))\n",
    "\n",
    "plt.tight_layout()\n",
    "plt.show()"
   ]
  },
  {
   "cell_type": "markdown",
   "metadata": {},
   "source": [
    "## More Analysis\n",
    "\n",
    "Lidar provides highly accurate DEM, vegetation height and snow depth. The purpose of this section is to quickly demonstrate some of the analysis we can do with these products. We will sample snow depth, elevation and vegetation height at 100 locations to quantify snow distribution over the the subset region"
   ]
  },
  {
   "cell_type": "code",
   "execution_count": null,
   "metadata": {},
   "outputs": [],
   "source": [
    "#import point location data\n",
    "cam_100_points = gpd.read_file('./input/cameron_100_points.gpkg')\n",
    "\n",
    "#create a buffer around the point feature and save to file\n",
    "cam_100_points.buffer(20).to_file('./Results/cam_100_points_buffer.gpkg')"
   ]
  },
  {
   "cell_type": "markdown",
   "metadata": {},
   "source": [
    "Let's see the sampled points"
   ]
  },
  {
   "cell_type": "code",
   "execution_count": null,
   "metadata": {},
   "outputs": [],
   "source": [
    "cam_100_poly = gpd.read_file('/home/naheemadebisi/snow-analytics/SnowEx_Lidar_Tutorial/Results/cam_100_points_buffer.gpkg')\n",
    "fig, ax = plt.subplots(figsize=(10,12))\n",
    "cam_sd_roi.plot(ax = ax)\n",
    "cam_100_poly.plot(ax = ax, color = 'black')\n",
    "plt.show()"
   ]
  },
  {
   "cell_type": "code",
   "execution_count": null,
   "metadata": {},
   "outputs": [],
   "source": [
    "#Extract raster values for the vegetation height\n",
    "cam_VH_stat = rs.zonal_stats('./Results/cam_100_points_buffer.gpkg', \n",
    "            cam_vh_roi.squeeze().values,\n",
    "            nodata = -9999,\n",
    "            geojson_out=True,\n",
    "            affine = cam_vh_roi.rio.transform(), \n",
    "            stats = 'count mean')\n",
    "cam_VH_stat_df =  gpd.GeoDataFrame.from_features(cam_VH_stat) #turn the geojson to a dataframe\n",
    "cam_VH_stat_df.rename(columns = {'mean': 'VH_mean', 'count': 'VH_count'}, inplace = True) #rename the columns\n",
    "\n",
    "#Extract raster values for the snow depth\n",
    "cam_SD_stat = rs.zonal_stats(cam_VH_stat_df,\n",
    "            cam_sd_roi.squeeze().values,\n",
    "            nodata = -9999,\n",
    "            geojson_out=True,\n",
    "            affine = cam_sd_roi.rio.transform(),\n",
    "            stats = 'count mean')\n",
    "cam_SD_stat_df =  gpd.GeoDataFrame.from_features(cam_SD_stat) #turn the geojson to a dataframe\n",
    "cam_SD_stat_df.rename(columns = {'mean': 'SD_mean', 'count': 'SD_count'}, inplace = True) #rename the columns\n",
    "\n",
    "#Extract raster values for elevation\n",
    "cam_DEM_stat = rs.zonal_stats(cam_SD_stat_df,\n",
    "            cam_dem_roi.squeeze().values,\n",
    "            nodata = -9999,\n",
    "            geojson_out=True,\n",
    "            affine = cam_dem_roi.rio.transform(),\n",
    "            stats = 'count mean')\n",
    "cam_DEM_stat_df =  gpd.GeoDataFrame.from_features(cam_DEM_stat) #turn the geojson to a dataframe\n",
    "cam_DEM_stat_df.rename(columns = {'mean': 'ELEV_mean', 'count': 'ELEV_count'}, inplace = True) #rename the columns\n",
    "\n",
    "#rename the dataframe\n",
    "vh_sd_dem = cam_DEM_stat_df\n"
   ]
  },
  {
   "cell_type": "code",
   "execution_count": null,
   "metadata": {},
   "outputs": [],
   "source": [
    "# Set font size and font family\n",
    "plt.rcParams.update({'font.size': 18})\n",
    "plt.rcParams['font.family'] = 'serif'\n",
    "plt.rcParams['font.serif'] = ['Times New Roman'] + plt.rcParams['font.serif']\n",
    "\n",
    "#create figure and gridspec object\n",
    "fig = plt.figure(figsize=(20,12), constrained_layout=True)\n",
    "gspec = fig.add_gridspec(ncols=5, nrows=5)\n",
    "\n",
    "ax0 = fig.add_subplot(gspec[0, 0])\n",
    "ax1 = fig.add_subplot(gspec[0, 1])\n",
    "ax2 = fig.add_subplot(gspec[0, 2])\n",
    "ax3 = fig.add_subplot(gspec[1:5, 0])\n",
    "ax4 = fig.add_subplot(gspec[1:5, 1])\n",
    "ax5 = fig.add_subplot(gspec[1:5, 2])\n",
    "ax6 = fig.add_subplot(gspec[0:5, 3])\n",
    "ax7 = fig.add_subplot(gspec[0:5, 4])\n",
    "\n",
    "# plot the boxplot of elevation, vegetation and snow thickness\n",
    "sns.boxplot(x= vh_sd_dem['ELEV_mean'], ax=ax0, palette= 'colorblind')\n",
    "ax0.set_xlabel('')\n",
    "sns.boxplot(x= vh_sd_dem['VH_mean'], ax=ax1, palette= 'colorblind')\n",
    "ax1.set_xlabel('')\n",
    "sns.boxplot(x= vh_sd_dem['SD_mean'], ax=ax2, palette= 'colorblind')\n",
    "ax2.set_xlabel('')\n",
    "\n",
    "# plot the histogram and boxplot of elevation, vegetation and snow thickness\n",
    "sns.histplot(data = vh_sd_dem, x ='ELEV_mean', ax=ax3, bins=50)\n",
    "ax3.set_xlabel('Elevation (m)')\n",
    "sns.histplot(data = vh_sd_dem, x ='VH_mean', ax=ax4, bins=50, binrange=(1,10))\n",
    "ax4.set_xlabel('Vegetation Height (m)')\n",
    "sns.histplot(data = vh_sd_dem, x ='SD_mean', ax=ax5, bins=50, binrange=(0,1.5))\n",
    "ax5.set_xlabel('Snow Depth (m)')\n",
    "\n",
    "#make the scatter plot of elevation vs snow thickness and vegetation vs snow thickness\n",
    "sns.kdeplot(data = vh_sd_dem, x = 'SD_mean', y = 'ELEV_mean', shade=True, ax=ax6, cmap='Blues')\n",
    "ax6.set_xlabel('Snow Depth (m)')\n",
    "ax6.set_ylabel('Elevation (m)')\n",
    "#set xlimt and y limt\n",
    "#ax6.set_xlim(0, 2.5)\n",
    "ax6.set_ylim(2900, 3300)\n",
    "\n",
    "sns.kdeplot(data = vh_sd_dem, x = 'SD_mean', y = 'VH_mean', shade=True, ax=ax7, cmap='Blues')\n",
    "ax7.set_xlabel('Snow Depth (m)')\n",
    "ax7.set_ylabel('Vegetation Height (m)')\n",
    "#set xlimt and y limt\n",
    "#ax7.set_xlim(0, 2.5)\n",
    "ax7.set_ylim(-3, 15)\n",
    "\n",
    "plt.show()"
   ]
  },
  {
   "cell_type": "markdown",
   "metadata": {},
   "source": [
    "## Common Pitfall in Elevation differencing\n",
    "\n",
    "The lidar data we have used so far are acquired from the same source (QSI). This made the DEM differencing to be quiet straighforward because the crs, resolution and extent are the same. At times, the elevation data might be from diffeerence sources. It will thus require extra effort of resampling and reprojection to accurately derive snow depth. \n",
    "Let's do DEM differencing again but using snow-on and snow-off DEM from different sources. The snow-on data is an 0.5m resolution raster acquired by  QSI over GrandMesa in 2020. A 3m DEM data acquired by ASO in 2016 will be used as the snow-off DEM. \n",
    "\n",
    "As a first step, we have to downsample the QSI data to the resolution of the ASO."
   ]
  },
  {
   "cell_type": "code",
   "execution_count": null,
   "metadata": {},
   "outputs": [],
   "source": [
    "!gdal_translate  -tr 3, 3 ./input/QSI_0.5m_GrandMesa13Feb_Winter_DEM.tif ./Results/QSI_3m_GrandMesa13Feb_Winter_DEM.tif"
   ]
  },
  {
   "cell_type": "code",
   "execution_count": null,
   "metadata": {},
   "outputs": [],
   "source": [
    "#check the raster metadata\n",
    "!gdalinfo ./Results/QSI_3m_GrandMesa13Feb_Winter_DEM.tif"
   ]
  },
  {
   "cell_type": "code",
   "execution_count": null,
   "metadata": {},
   "outputs": [],
   "source": [
    "#read the data as arrays\n",
    "snow_on_dem = rioxarray.open_rasterio('./Results/QSI_3m_GrandMesa13Feb_Winter_DEM.tif', masked =True)\n",
    "snow_on_dem.hvplot.image(x= 'x', y = 'y', rasterize = True, cmap = 'viridis')"
   ]
  },
  {
   "cell_type": "code",
   "execution_count": null,
   "metadata": {},
   "outputs": [],
   "source": [
    "#read the snow-off DEMs\n",
    "snow_free_dem = rioxarray.open_rasterio('./input/ASO_3M_GrandMesa_Summer_DEM.tif',\n",
    "            masked=True)\n",
    "snow_free_dem.hvplot.image(x= 'x', y = 'y', rasterize = True, cmap = 'viridis')"
   ]
  },
  {
   "cell_type": "markdown",
   "metadata": {},
   "source": [
    "The extent and crs of the snow-off DEM is different from the snow-on. Let's match the snow-off DEM with the snow-on DEM"
   ]
  },
  {
   "cell_type": "code",
   "execution_count": null,
   "metadata": {},
   "outputs": [],
   "source": [
    "snow_free_dem_match = snow_free_dem.rio.reproject_match(snow_on_dem)\n",
    "snow_free_dem_match.hvplot.image(x= 'x', y = 'y', rasterize = True, cmap = 'viridis')"
   ]
  },
  {
   "cell_type": "code",
   "execution_count": null,
   "metadata": {},
   "outputs": [],
   "source": [
    "snow_depth = snow_on_dem - snow_free_dem_match\n",
    "snow_depth.hvplot.image(x= 'x', y = 'y', rasterize = True, cmap = 'viridis')"
   ]
  },
  {
   "cell_type": "markdown",
   "metadata": {},
   "source": [
    "About 17 m snow depth.... What's the issue?"
   ]
  },
  {
   "cell_type": "markdown",
   "metadata": {},
   "source": [
    "We need to do vertical datum transformation. Matching the vertical datum of data from different sources is important for elevation data. \n",
    "The vertical datum of ASO is in ellipsoid (WGS 84)while QSI is in geoid (NAVD). Let's transform ASO to same datum as QSI. \n",
    "\n",
    "For the QSI, projection:\n",
    "\n",
    "UTM Zone 12 North\n",
    "\n",
    "Horizontal Datum: NAD83 (2011). NAD 83 is a 3-D reference system, it also serves as the horizontal control datum for the United States, Canada, Greenland and Central America using the Geodetic Reference System 1980 (GRS 80) ellipsoid, an earth-centered reference ellipsoid. [See this link for more reading](https://vdatum.noaa.gov/docs/datums.html)\n",
    "\n",
    "Vertical Datum: NAVD88 (Geoid12b)\n",
    "Units: Meters\n",
    "\n",
    "<figure>\n",
    "<img src = 'https://i.imgur.com/CbvMuMB.jpg' style=\"width:100%\">\n",
    "<figcaption align =  'center'><b>Relationship between Clarke 1866, WGS 84, GRS 80 and Geoid (left).Relationship between elliposid, Geoid and Orthometric Height (Right). Source: NOAA</b></figcaption>\n",
    "</figure>\n",
    "\n",
    "\n",
    "\n"
   ]
  },
  {
   "cell_type": "code",
   "execution_count": null,
   "metadata": {},
   "outputs": [],
   "source": [
    "!gdalsrsinfo -o proj4 ./input/ASO_3M_GrandMesa_Summer_DEM.tif"
   ]
  },
  {
   "cell_type": "code",
   "execution_count": null,
   "metadata": {},
   "outputs": [],
   "source": [
    "!gdalsrsinfo -o proj4 ./Results/QSI_3m_GrandMesa13Feb_Winter_DEM.tif"
   ]
  },
  {
   "cell_type": "code",
   "execution_count": null,
   "metadata": {},
   "outputs": [],
   "source": [
    "#coordinate transformation\n",
    "!gdalwarp -s_srs \"+proj=utm +zone=13 +datum=WGS84 +units=m +no_defs\" -t_srs \"+proj=utm +zone=12 +ellps=GRS80 +units=m +no_defs +geoidgrids=egm96_15.gtx\" ./input/ASO_3M_GrandMesa_Summer_DEM.tif ./Results/ASO_3M_GrandMesa_Summer_DEM_geoid.tif"
   ]
  },
  {
   "cell_type": "code",
   "execution_count": null,
   "metadata": {},
   "outputs": [],
   "source": [
    "#read the snow-off DEMs\n",
    "snow_free_dem = rioxarray.open_rasterio('./Results/ASO_3M_GrandMesa_Summer_DEM_geoid.tif',\n",
    "            masked=True)\n",
    "            \n",
    "#reproject the ASO DEM to match the QSI DEM\n",
    "snow_free_dem_match = snow_free_dem.rio.reproject_match(snow_on_dem)"
   ]
  },
  {
   "cell_type": "code",
   "execution_count": null,
   "metadata": {},
   "outputs": [],
   "source": [
    "snow_depth = snow_on_dem - snow_free_dem_match\n",
    "snow_depth = snow_depth.where((snow_depth > 0) & (snow_depth < 3))\n",
    "snow_depth.hvplot.image(x= 'x', y = 'y', rasterize = True, cmap = 'viridis')"
   ]
  },
  {
   "cell_type": "markdown",
   "metadata": {},
   "source": [
    "## Available Data for Lidar Remote Sensing\n",
    "\n",
    "Various lidar data has been acquired to monitory snow over the western US.\n",
    "1. 2013 - 2019: ASO data\n",
    "2. 2020 Quantunmn data over some selected areas.\n",
    "3. 2021 Quantumn data over selected areas\n",
    "4. 2022: Riegl flight over MCS\n",
    "\n",
    "For the 2020 and 2021 data we have lidar data including \n",
    "The lidar data we have include:\n",
    "\n",
    "1. DEMs (SnowOn and SnowFree)\n",
    "2. DSMs (SnowOn and SnowFree)\n",
    "3. Vegetation Height (SnowOn and SnowFree)\n",
    "4. Snow Depth\n",
    "5. Intensity Images (SnowOn and SnowFree)\n",
    "\n",
    "![](https://i.imgur.com/Y5gsOFO.jpg)"
   ]
  },
  {
   "cell_type": "markdown",
   "metadata": {},
   "source": [
    "References:\n",
    "1. Earthdatascience"
   ]
  }
 ],
 "metadata": {
  "interpreter": {
   "hash": "4a6b17c43e9812396a6a5107d266d4edbe6eaa1adb1fd72c08be9ea32f828148"
  },
  "kernelspec": {
   "display_name": "Python 3.8.13 ('earth-analytics-python')",
   "language": "python",
   "name": "python3"
  },
  "language_info": {
   "codemirror_mode": {
    "name": "ipython",
    "version": 3
   },
   "file_extension": ".py",
   "mimetype": "text/x-python",
   "name": "python",
   "nbconvert_exporter": "python",
   "pygments_lexer": "ipython3",
   "version": "3.8.13"
  },
  "orig_nbformat": 4
 },
 "nbformat": 4,
 "nbformat_minor": 2
}
