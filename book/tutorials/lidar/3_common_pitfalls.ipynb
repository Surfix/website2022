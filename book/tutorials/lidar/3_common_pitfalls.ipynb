{
 "cells": [
  {
   "cell_type": "markdown",
   "metadata": {},
   "source": [
    "# Common Pitfall in Elevation differencing\n",
    "\n",
    "## Data from different sources\n",
    "\n",
    "The lidar data we have used so far are acquired from the same source (QSI). This made the DEM differencing to be quiet straightforward because the crs, resolution and extent are the same. At times, the elevation data might be from diffeerence sources. It will thus require extra effort of resampling and reprojection to accurately derive snow depth. \n",
    "Let's do DEM differencing again but using snow-on and snow-off DEM from different sources. The snow-on data is an 0.5m resolution raster acquired by  QSI over GrandMesa in 2020. A 3m DEM data acquired by ASO in 2016 will be used as the snow-off DEM. \n",
    "\n",
    "As a first step, we have to downsample the QSI data to the resolution of the ASO."
   ]
  },
  {
   "cell_type": "code",
   "execution_count": null,
   "metadata": {},
   "outputs": [],
   "source": [
    "!gdal_translate  -tr 3, 3 ./input/QSI_0.5m_GrandMesa13Feb_Winter_DEM.tif ./Results/QSI_3m_GrandMesa13Feb_Winter_DEM.tif"
   ]
  },
  {
   "cell_type": "code",
   "execution_count": null,
   "metadata": {},
   "outputs": [],
   "source": [
    "#check the raster metadata\n",
    "!gdalinfo ./Results/QSI_3m_GrandMesa13Feb_Winter_DEM.tif"
   ]
  },
  {
   "cell_type": "code",
   "execution_count": null,
   "metadata": {},
   "outputs": [],
   "source": [
    "#read the data as arrays\n",
    "snow_on_dem = rioxarray.open_rasterio('./Results/QSI_3m_GrandMesa13Feb_Winter_DEM.tif', masked =True)\n",
    "snow_on_dem.hvplot.image(x= 'x', y = 'y', rasterize = True, cmap = 'viridis')"
   ]
  },
  {
   "cell_type": "code",
   "execution_count": null,
   "metadata": {},
   "outputs": [],
   "source": [
    "#read the snow-off DEMs\n",
    "snow_free_dem = rioxarray.open_rasterio('./input/ASO_3M_GrandMesa_Summer_DEM.tif',\n",
    "            masked=True)\n",
    "snow_free_dem.hvplot.image(x= 'x', y = 'y', rasterize = True, cmap = 'viridis')"
   ]
  },
  {
   "cell_type": "markdown",
   "metadata": {},
   "source": [
    "The extent and crs of the snow-off DEM is different from the snow-on. Let's match the snow-off DEM with the snow-on DEM"
   ]
  },
  {
   "cell_type": "code",
   "execution_count": null,
   "metadata": {},
   "outputs": [],
   "source": [
    "snow_free_dem_match = snow_free_dem.rio.reproject_match(snow_on_dem)\n",
    "snow_free_dem_match.hvplot.image(x= 'x', y = 'y', rasterize = True, cmap = 'viridis')"
   ]
  },
  {
   "cell_type": "code",
   "execution_count": null,
   "metadata": {},
   "outputs": [],
   "source": [
    "snow_depth = snow_on_dem - snow_free_dem_match\n",
    "snow_depth.hvplot.image(x= 'x', y = 'y', rasterize = True, cmap = 'viridis')"
   ]
  },
  {
   "cell_type": "markdown",
   "metadata": {},
   "source": [
    "About 17 m snow depth.... What's the issue?"
   ]
  },
  {
   "cell_type": "markdown",
   "metadata": {},
   "source": [
    "The snow-on and snow-free DEM are referenced to different datum, so we need to do vertical datum transformation. Matching the vertical datum of data from different sources is important for elevation data. \n",
    "The vertical datum of ASO is in ellipsoid (WGS 84)while QSI is in geoid (NAVD 88). Let's transform ASO to same datum as QSI. \n",
    "\n",
    "QSI is in UTM Zone 12 North. Horizontal Datum used is NAD83 (2011). NAD 83 is a 3-D reference system, it also serves as the horizontal control datum for the United States, Canada, Greenland and Central America using the Geodetic Reference System 1980 (GRS 80) ellipsoid, an earth-centered reference ellipsoid. [See this link for more reading](https://vdatum.noaa.gov/docs/datums.html). The vertical datum is NAVD88 (Geoid12b)\n",
    "\n",
    "<figure>\n",
    "<img src = 'https://i.imgur.com/CbvMuMB.jpg' style=\"width:100%\">\n",
    "<figcaption align =  'center'><b>Relationship between Clarke 1866, WGS 84, GRS 80 and Geoid (left).Relationship between elliposid, Geoid and Orthometric Height (Right). Source: NOAA</b></figcaption>\n",
    "</figure>\n",
    "\n",
    "\n",
    "\n"
   ]
  },
  {
   "cell_type": "code",
   "execution_count": null,
   "metadata": {},
   "outputs": [],
   "source": [
    "!gdalsrsinfo -o proj4 ./input/ASO_3M_GrandMesa_Summer_DEM.tif"
   ]
  },
  {
   "cell_type": "code",
   "execution_count": null,
   "metadata": {},
   "outputs": [],
   "source": [
    "!gdalsrsinfo -o proj4 ./Results/QSI_3m_GrandMesa13Feb_Winter_DEM.tif"
   ]
  },
  {
   "cell_type": "code",
   "execution_count": null,
   "metadata": {},
   "outputs": [],
   "source": [
    "#coordinate transformation\n",
    "!gdalwarp -s_srs \"+proj=utm +zone=13 +datum=WGS84 +units=m +no_defs\" -t_srs \"+proj=utm +zone=12 +ellps=GRS80 +units=m +no_defs +geoidgrids=egm96_15.gtx\" ./input/ASO_3M_GrandMesa_Summer_DEM.tif ./Results/ASO_3M_GrandMesa_Summer_DEM_geoid.tif"
   ]
  },
  {
   "cell_type": "code",
   "execution_count": null,
   "metadata": {},
   "outputs": [],
   "source": [
    "#read the snow-off DEMs\n",
    "snow_free_dem = rioxarray.open_rasterio('./Results/ASO_3M_GrandMesa_Summer_DEM_geoid.tif',\n",
    "            masked=True)\n",
    "            \n",
    "#reproject the ASO DEM to match the QSI DEM\n",
    "snow_free_dem_match = snow_free_dem.rio.reproject_match(snow_on_dem)"
   ]
  },
  {
   "cell_type": "code",
   "execution_count": null,
   "metadata": {},
   "outputs": [],
   "source": [
    "snow_depth = snow_on_dem - snow_free_dem_match\n",
    "snow_depth = snow_depth.where((snow_depth > 0) & (snow_depth < 3))\n",
    "snow_depth.hvplot.image(x= 'x', y = 'y', rasterize = True, cmap = 'viridis')"
   ]
  },
  {
   "cell_type": "markdown",
   "metadata": {},
   "source": [
    "## Coregistion\n",
    "\n",
    "Another potential source of error for lidar differencing is coregristration. If the differenced value still doesn't make sense after matching the crs and extent, it might be a misregistration issue."
   ]
  },
  {
   "cell_type": "markdown",
   "metadata": {},
   "source": [
    "## Available Data for Lidar Remote Sensing\n",
    "\n",
    "Various lidar data has been acquired to monitory snow over the western US.\n",
    "1. 2013 - 2019: ASO data\n",
    "2. 2020 Quantunmn data over some selected areas.\n",
    "3. 2021 Quantumn data over selected areas\n",
    "4. 2022: Riegl flight over MCS\n",
    "\n",
    "For the 2020 and 2021 data we have lidar data including \n",
    "The lidar data we have include:\n",
    "\n",
    "1. DEMs (SnowOn and SnowFree)\n",
    "2. DSMs (SnowOn and SnowFree)\n",
    "3. Vegetation Height (SnowOn and SnowFree)\n",
    "4. Snow Depth\n",
    "5. Intensity Images (SnowOn and SnowFree)\n",
    "\n",
    "![](https://i.imgur.com/Y5gsOFO.jpg)"
   ]
  },
  {
   "cell_type": "markdown",
   "metadata": {},
   "source": [
    "References:\n",
    "1. Earthdatascience"
   ]
  }
 ],
 "metadata": {
  "interpreter": {
   "hash": "4a6b17c43e9812396a6a5107d266d4edbe6eaa1adb1fd72c08be9ea32f828148"
  },
  "kernelspec": {
   "display_name": "Python 3.8.13 ('earth-analytics-python')",
   "language": "python",
   "name": "python3"
  },
  "language_info": {
   "codemirror_mode": {
    "name": "ipython",
    "version": 3
   },
   "file_extension": ".py",
   "mimetype": "text/x-python",
   "name": "python",
   "nbconvert_exporter": "python",
   "pygments_lexer": "ipython3",
   "version": "3.8.13"
  },
  "orig_nbformat": 4
 },
 "nbformat": 4,
 "nbformat_minor": 2
}
